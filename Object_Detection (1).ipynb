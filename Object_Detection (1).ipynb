{
  "nbformat": 4,
  "nbformat_minor": 0,
  "metadata": {
    "colab": {
      "provenance": []
    },
    "kernelspec": {
      "name": "python3",
      "display_name": "Python 3"
    },
    "language_info": {
      "name": "python"
    },
    "accelerator": "GPU",
    "gpuClass": "standard"
  },
  "cells": [
    {
      "cell_type": "code",
      "source": [
        "%pip install ultralytics\n",
        "import ultralytics\n",
        "ultralytics.checks()"
      ],
      "metadata": {
        "id": "NiauJUPrmjtS",
        "colab": {
          "base_uri": "https://localhost:8080/"
        },
        "outputId": "2d5e9354-a9a6-4173-af06-82ea1b6cb4be"
      },
      "execution_count": 1,
      "outputs": [
        {
          "output_type": "stream",
          "name": "stderr",
          "text": [
            "Ultralytics YOLOv8.0.91 🚀 Python-3.10.11 torch-2.0.0+cu118 CUDA:0 (Tesla T4, 15102MiB)\n",
            "Setup complete ✅ (2 CPUs, 12.7 GB RAM, 23.4/78.2 GB disk)\n"
          ]
        }
      ]
    },
    {
      "cell_type": "code",
      "source": [
        "# Download COCO val\n",
        "import torch\n",
        "torch.hub.download_url_to_file('https://ultralytics.com/assets/coco2017val.zip', 'tmp.zip')  # download (780M - 5000 images)\n",
        "!unzip -q tmp.zip -d datasets && rm tmp.zip  # unzip"
      ],
      "metadata": {
        "id": "yV_Mzq6vn9r5",
        "colab": {
          "base_uri": "https://localhost:8080/"
        },
        "outputId": "91db2109-27d9-4bd7-d74c-e9aeae1775a9"
      },
      "execution_count": 2,
      "outputs": [
        {
          "output_type": "stream",
          "name": "stderr",
          "text": [
            "100%|██████████| 780M/780M [00:04<00:00, 183MB/s]\n"
          ]
        }
      ]
    },
    {
      "cell_type": "code",
      "execution_count": 3,
      "metadata": {
        "id": "j1MemIbqdVsd",
        "colab": {
          "base_uri": "https://localhost:8080/"
        },
        "outputId": "9efde845-c0f8-450f-8ed5-cf9fc5b530df"
      },
      "outputs": [
        {
          "output_type": "stream",
          "name": "stdout",
          "text": [
            "Looking in indexes: https://pypi.org/simple, https://us-python.pkg.dev/colab-wheels/public/simple/\n",
            "Requirement already satisfied: requests in /usr/local/lib/python3.10/dist-packages (2.27.1)\n",
            "Requirement already satisfied: pillow in /usr/local/lib/python3.10/dist-packages (8.4.0)\n",
            "Collecting requests_toolbelt\n",
            "  Downloading requests_toolbelt-1.0.0-py2.py3-none-any.whl (54 kB)\n",
            "\u001b[2K     \u001b[90m━━━━━━━━━━━━━━━━━━━━━━━━━━━━━━━━━━━━━━━━\u001b[0m \u001b[32m54.5/54.5 kB\u001b[0m \u001b[31m2.0 MB/s\u001b[0m eta \u001b[36m0:00:00\u001b[0m\n",
            "\u001b[?25hRequirement already satisfied: urllib3<1.27,>=1.21.1 in /usr/local/lib/python3.10/dist-packages (from requests) (1.26.15)\n",
            "Requirement already satisfied: certifi>=2017.4.17 in /usr/local/lib/python3.10/dist-packages (from requests) (2022.12.7)\n",
            "Requirement already satisfied: charset-normalizer~=2.0.0 in /usr/local/lib/python3.10/dist-packages (from requests) (2.0.12)\n",
            "Requirement already satisfied: idna<4,>=2.5 in /usr/local/lib/python3.10/dist-packages (from requests) (3.4)\n",
            "Installing collected packages: requests_toolbelt\n",
            "Successfully installed requests_toolbelt-1.0.0\n"
          ]
        }
      ],
      "source": [
        "!pip install requests pillow requests_toolbelt"
      ]
    },
    {
      "cell_type": "code",
      "source": [
        "!pip install roboflow"
      ],
      "metadata": {
        "id": "fz0_yeBRggQ7",
        "colab": {
          "base_uri": "https://localhost:8080/",
          "height": 1000
        },
        "outputId": "f250b557-f853-4ebf-c23c-fc44506591ad"
      },
      "execution_count": 4,
      "outputs": [
        {
          "output_type": "stream",
          "name": "stdout",
          "text": [
            "Looking in indexes: https://pypi.org/simple, https://us-python.pkg.dev/colab-wheels/public/simple/\n",
            "Collecting roboflow\n",
            "  Downloading roboflow-1.0.5-py3-none-any.whl (56 kB)\n",
            "\u001b[2K     \u001b[90m━━━━━━━━━━━━━━━━━━━━━━━━━━━━━━━━━━━━━━━━\u001b[0m \u001b[32m56.2/56.2 kB\u001b[0m \u001b[31m2.9 MB/s\u001b[0m eta \u001b[36m0:00:00\u001b[0m\n",
            "\u001b[?25hRequirement already satisfied: certifi==2022.12.7 in /usr/local/lib/python3.10/dist-packages (from roboflow) (2022.12.7)\n",
            "Requirement already satisfied: chardet==4.0.0 in /usr/local/lib/python3.10/dist-packages (from roboflow) (4.0.0)\n",
            "Collecting cycler==0.10.0 (from roboflow)\n",
            "  Downloading cycler-0.10.0-py2.py3-none-any.whl (6.5 kB)\n",
            "Collecting idna==2.10 (from roboflow)\n",
            "  Downloading idna-2.10-py2.py3-none-any.whl (58 kB)\n",
            "\u001b[2K     \u001b[90m━━━━━━━━━━━━━━━━━━━━━━━━━━━━━━━━━━━━━━━━\u001b[0m \u001b[32m58.8/58.8 kB\u001b[0m \u001b[31m8.8 MB/s\u001b[0m eta \u001b[36m0:00:00\u001b[0m\n",
            "\u001b[?25hRequirement already satisfied: kiwisolver>=1.3.1 in /usr/local/lib/python3.10/dist-packages (from roboflow) (1.4.4)\n",
            "Requirement already satisfied: matplotlib in /usr/local/lib/python3.10/dist-packages (from roboflow) (3.7.1)\n",
            "Requirement already satisfied: numpy>=1.18.5 in /usr/local/lib/python3.10/dist-packages (from roboflow) (1.22.4)\n",
            "Requirement already satisfied: opencv-python>=4.1.2 in /usr/local/lib/python3.10/dist-packages (from roboflow) (4.7.0.72)\n",
            "Requirement already satisfied: Pillow>=7.1.2 in /usr/local/lib/python3.10/dist-packages (from roboflow) (8.4.0)\n",
            "Collecting pyparsing==2.4.7 (from roboflow)\n",
            "  Downloading pyparsing-2.4.7-py2.py3-none-any.whl (67 kB)\n",
            "\u001b[2K     \u001b[90m━━━━━━━━━━━━━━━━━━━━━━━━━━━━━━━━━━━━━━━━\u001b[0m \u001b[32m67.8/67.8 kB\u001b[0m \u001b[31m8.8 MB/s\u001b[0m eta \u001b[36m0:00:00\u001b[0m\n",
            "\u001b[?25hRequirement already satisfied: python-dateutil in /usr/local/lib/python3.10/dist-packages (from roboflow) (2.8.2)\n",
            "Collecting python-dotenv (from roboflow)\n",
            "  Downloading python_dotenv-1.0.0-py3-none-any.whl (19 kB)\n",
            "Requirement already satisfied: requests in /usr/local/lib/python3.10/dist-packages (from roboflow) (2.27.1)\n",
            "Requirement already satisfied: six in /usr/local/lib/python3.10/dist-packages (from roboflow) (1.16.0)\n",
            "Requirement already satisfied: urllib3>=1.26.6 in /usr/local/lib/python3.10/dist-packages (from roboflow) (1.26.15)\n",
            "Collecting wget (from roboflow)\n",
            "  Downloading wget-3.2.zip (10 kB)\n",
            "  Preparing metadata (setup.py) ... \u001b[?25l\u001b[?25hdone\n",
            "Requirement already satisfied: tqdm>=4.41.0 in /usr/local/lib/python3.10/dist-packages (from roboflow) (4.65.0)\n",
            "Requirement already satisfied: PyYAML>=5.3.1 in /usr/local/lib/python3.10/dist-packages (from roboflow) (6.0)\n",
            "Requirement already satisfied: requests-toolbelt in /usr/local/lib/python3.10/dist-packages (from roboflow) (1.0.0)\n",
            "Requirement already satisfied: contourpy>=1.0.1 in /usr/local/lib/python3.10/dist-packages (from matplotlib->roboflow) (1.0.7)\n",
            "Requirement already satisfied: fonttools>=4.22.0 in /usr/local/lib/python3.10/dist-packages (from matplotlib->roboflow) (4.39.3)\n",
            "Requirement already satisfied: packaging>=20.0 in /usr/local/lib/python3.10/dist-packages (from matplotlib->roboflow) (23.1)\n",
            "Requirement already satisfied: charset-normalizer~=2.0.0 in /usr/local/lib/python3.10/dist-packages (from requests->roboflow) (2.0.12)\n",
            "Building wheels for collected packages: wget\n",
            "  Building wheel for wget (setup.py) ... \u001b[?25l\u001b[?25hdone\n",
            "  Created wheel for wget: filename=wget-3.2-py3-none-any.whl size=9676 sha256=2bbf64f1c78a1aa15e10cadde2a6699ec12dc123585b1b3025dfc3b67ae7482c\n",
            "  Stored in directory: /root/.cache/pip/wheels/8b/f1/7f/5c94f0a7a505ca1c81cd1d9208ae2064675d97582078e6c769\n",
            "Successfully built wget\n",
            "Installing collected packages: wget, python-dotenv, pyparsing, idna, cycler, roboflow\n",
            "  Attempting uninstall: pyparsing\n",
            "    Found existing installation: pyparsing 3.0.9\n",
            "    Uninstalling pyparsing-3.0.9:\n",
            "      Successfully uninstalled pyparsing-3.0.9\n",
            "  Attempting uninstall: idna\n",
            "    Found existing installation: idna 3.4\n",
            "    Uninstalling idna-3.4:\n",
            "      Successfully uninstalled idna-3.4\n",
            "  Attempting uninstall: cycler\n",
            "    Found existing installation: cycler 0.11.0\n",
            "    Uninstalling cycler-0.11.0:\n",
            "      Successfully uninstalled cycler-0.11.0\n",
            "Successfully installed cycler-0.10.0 idna-2.10 pyparsing-2.4.7 python-dotenv-1.0.0 roboflow-1.0.5 wget-3.2\n"
          ]
        },
        {
          "output_type": "display_data",
          "data": {
            "application/vnd.colab-display-data+json": {
              "pip_warning": {
                "packages": [
                  "cycler",
                  "idna",
                  "pyparsing"
                ]
              }
            }
          },
          "metadata": {}
        }
      ]
    },
    {
      "cell_type": "code",
      "source": [
        "\n",
        "from roboflow import Roboflow\n",
        "rf = Roboflow(api_key=\"9LpDpxe1B3v7ReOTU8Vj\")\n",
        "project = rf.workspace(\"marwadi-university\").project(\"shopping-cart-6g1zn\")\n",
        "dataset = project.version(2).download(\"yolov8\")"
      ],
      "metadata": {
        "id": "iPauQhKhFGas",
        "colab": {
          "base_uri": "https://localhost:8080/"
        },
        "outputId": "092ceaac-9799-4d3b-921c-0d4b7e0bbfe5"
      },
      "execution_count": 5,
      "outputs": [
        {
          "output_type": "stream",
          "name": "stdout",
          "text": [
            "loading Roboflow workspace...\n",
            "loading Roboflow project...\n",
            "Dependency ultralytics<=8.0.20 is required but found version=8.0.91, to fix: `pip install ultralytics<=8.0.20`\n",
            "Downloading Dataset Version Zip in shopping-cart-2 to yolov8: 100% [166048165 / 166048165] bytes\n"
          ]
        },
        {
          "output_type": "stream",
          "name": "stderr",
          "text": [
            "Extracting Dataset Version Zip to shopping-cart-2 in yolov8:: 100%|██████████| 4180/4180 [00:01<00:00, 2512.95it/s]\n"
          ]
        }
      ]
    },
    {
      "cell_type": "code",
      "source": [
        "\n",
        "from google.colab import drive\n",
        "\n",
        "drive.mount('/content/gdrive', force_remount=True)\n"
      ],
      "metadata": {
        "id": "0O-9xDWQ3K-M",
        "colab": {
          "base_uri": "https://localhost:8080/"
        },
        "outputId": "7ce9e66f-ceeb-41b2-a0d3-22cb54d27cc3"
      },
      "execution_count": 6,
      "outputs": [
        {
          "output_type": "stream",
          "name": "stdout",
          "text": [
            "Mounted at /content/gdrive\n"
          ]
        }
      ]
    },
    {
      "cell_type": "code",
      "source": [
        "%cd /content/gdrive/MyDrive\n",
        "\n",
        "#!yolo task=detect mode=train model=yolov8s.pt data={dataset.location}/data.yaml epoch=25 imgsz=200"
      ],
      "metadata": {
        "id": "Dl8q5OT2Q-vj",
        "colab": {
          "base_uri": "https://localhost:8080/"
        },
        "outputId": "be4401b2-02d9-499b-ac31-28e35f2d2562"
      },
      "execution_count": 7,
      "outputs": [
        {
          "output_type": "stream",
          "name": "stdout",
          "text": [
            "/content/gdrive/MyDrive\n"
          ]
        }
      ]
    },
    {
      "cell_type": "code",
      "source": [
        "!yolo task=detect mode=train model=yolov8s.pt data={dataset.location}/data.yaml epochs=25 imgsz=200"
      ],
      "metadata": {
        "id": "UrOrmnW3qAQt",
        "colab": {
          "base_uri": "https://localhost:8080/"
        },
        "outputId": "a942e34a-775a-498b-e054-877e63e3a797"
      },
      "execution_count": 8,
      "outputs": [
        {
          "output_type": "stream",
          "name": "stdout",
          "text": [
            "Ultralytics YOLOv8.0.91 🚀 Python-3.10.11 torch-2.0.0+cu118 CUDA:0 (Tesla T4, 15102MiB)\n",
            "\u001b[34m\u001b[1myolo/engine/trainer: \u001b[0mtask=detect, mode=train, model=yolov8s.pt, data=/content/shopping-cart-2/data.yaml, epochs=25, patience=50, batch=16, imgsz=200, save=True, save_period=-1, cache=False, device=None, workers=8, project=None, name=None, exist_ok=False, pretrained=False, optimizer=SGD, verbose=True, seed=0, deterministic=True, single_cls=False, rect=False, cos_lr=False, close_mosaic=0, resume=False, amp=True, overlap_mask=True, mask_ratio=4, dropout=0.0, val=True, split=val, save_json=False, save_hybrid=False, conf=None, iou=0.7, max_det=300, half=False, dnn=False, plots=True, source=None, show=False, save_txt=False, save_conf=False, save_crop=False, show_labels=True, show_conf=True, vid_stride=1, line_thickness=3, visualize=False, augment=False, agnostic_nms=False, classes=None, retina_masks=False, boxes=True, format=torchscript, keras=False, optimize=False, int8=False, dynamic=False, simplify=False, opset=None, workspace=4, nms=False, lr0=0.01, lrf=0.01, momentum=0.937, weight_decay=0.0005, warmup_epochs=3.0, warmup_momentum=0.8, warmup_bias_lr=0.1, box=7.5, cls=0.5, dfl=1.5, pose=12.0, kobj=1.0, label_smoothing=0.0, nbs=64, hsv_h=0.015, hsv_s=0.7, hsv_v=0.4, degrees=0.0, translate=0.1, scale=0.5, shear=0.0, perspective=0.0, flipud=0.0, fliplr=0.5, mosaic=1.0, mixup=0.0, copy_paste=0.0, cfg=None, v5loader=False, tracker=botsort.yaml, save_dir=runs/detect/train4\n",
            "Downloading https://ultralytics.com/assets/Arial.ttf to /root/.config/Ultralytics/Arial.ttf...\n",
            "100% 755k/755k [00:00<00:00, 18.7MB/s]\n",
            "Overriding model.yaml nc=80 with nc=1\n",
            "\n",
            "                   from  n    params  module                                       arguments                     \n",
            "  0                  -1  1       928  ultralytics.nn.modules.Conv                  [3, 32, 3, 2]                 \n",
            "  1                  -1  1     18560  ultralytics.nn.modules.Conv                  [32, 64, 3, 2]                \n",
            "  2                  -1  1     29056  ultralytics.nn.modules.C2f                   [64, 64, 1, True]             \n",
            "  3                  -1  1     73984  ultralytics.nn.modules.Conv                  [64, 128, 3, 2]               \n",
            "  4                  -1  2    197632  ultralytics.nn.modules.C2f                   [128, 128, 2, True]           \n",
            "  5                  -1  1    295424  ultralytics.nn.modules.Conv                  [128, 256, 3, 2]              \n",
            "  6                  -1  2    788480  ultralytics.nn.modules.C2f                   [256, 256, 2, True]           \n",
            "  7                  -1  1   1180672  ultralytics.nn.modules.Conv                  [256, 512, 3, 2]              \n",
            "  8                  -1  1   1838080  ultralytics.nn.modules.C2f                   [512, 512, 1, True]           \n",
            "  9                  -1  1    656896  ultralytics.nn.modules.SPPF                  [512, 512, 5]                 \n",
            " 10                  -1  1         0  torch.nn.modules.upsampling.Upsample         [None, 2, 'nearest']          \n",
            " 11             [-1, 6]  1         0  ultralytics.nn.modules.Concat                [1]                           \n",
            " 12                  -1  1    591360  ultralytics.nn.modules.C2f                   [768, 256, 1]                 \n",
            " 13                  -1  1         0  torch.nn.modules.upsampling.Upsample         [None, 2, 'nearest']          \n",
            " 14             [-1, 4]  1         0  ultralytics.nn.modules.Concat                [1]                           \n",
            " 15                  -1  1    148224  ultralytics.nn.modules.C2f                   [384, 128, 1]                 \n",
            " 16                  -1  1    147712  ultralytics.nn.modules.Conv                  [128, 128, 3, 2]              \n",
            " 17            [-1, 12]  1         0  ultralytics.nn.modules.Concat                [1]                           \n",
            " 18                  -1  1    493056  ultralytics.nn.modules.C2f                   [384, 256, 1]                 \n",
            " 19                  -1  1    590336  ultralytics.nn.modules.Conv                  [256, 256, 3, 2]              \n",
            " 20             [-1, 9]  1         0  ultralytics.nn.modules.Concat                [1]                           \n",
            " 21                  -1  1   1969152  ultralytics.nn.modules.C2f                   [768, 512, 1]                 \n",
            " 22        [15, 18, 21]  1   2116435  ultralytics.nn.modules.Detect                [1, [128, 256, 512]]          \n",
            "Model summary: 225 layers, 11135987 parameters, 11135971 gradients, 28.6 GFLOPs\n",
            "\n",
            "Transferred 349/355 items from pretrained weights\n",
            "\u001b[34m\u001b[1mTensorBoard: \u001b[0mStart with 'tensorboard --logdir runs/detect/train4', view at http://localhost:6006/\n",
            "\u001b[34m\u001b[1mAMP: \u001b[0mrunning Automatic Mixed Precision (AMP) checks with YOLOv8n...\n",
            "\u001b[34m\u001b[1mAMP: \u001b[0mchecks passed ✅\n",
            "WARNING ⚠️ imgsz=[200] must be multiple of max stride 32, updating to [224]\n",
            "\u001b[34m\u001b[1moptimizer:\u001b[0m SGD(lr=0.01) with parameter groups 57 weight(decay=0.0), 64 weight(decay=0.0005), 63 bias\n",
            "\u001b[34m\u001b[1mtrain: \u001b[0mScanning /content/shopping-cart-2/train/labels... 1908 images, 0 backgrounds, 0 corrupt: 100% 1908/1908 [00:00<00:00, 2184.55it/s]\n",
            "\u001b[34m\u001b[1mtrain: \u001b[0mNew cache created: /content/shopping-cart-2/train/labels.cache\n",
            "\u001b[34m\u001b[1malbumentations: \u001b[0mBlur(p=0.01, blur_limit=(3, 7)), MedianBlur(p=0.01, blur_limit=(3, 7)), ToGray(p=0.01), CLAHE(p=0.01, clip_limit=(1, 4.0), tile_grid_size=(8, 8))\n",
            "\u001b[34m\u001b[1mval: \u001b[0mScanning /content/shopping-cart-2/valid/labels... 91 images, 0 backgrounds, 0 corrupt: 100% 91/91 [00:00<00:00, 1909.76it/s]\n",
            "\u001b[34m\u001b[1mval: \u001b[0mNew cache created: /content/shopping-cart-2/valid/labels.cache\n",
            "Plotting labels to runs/detect/train4/labels.jpg... \n",
            "Image sizes 224 train, 224 val\n",
            "Using 2 dataloader workers\n",
            "Logging results to \u001b[1mruns/detect/train4\u001b[0m\n",
            "Starting training for 25 epochs...\n",
            "\n",
            "      Epoch    GPU_mem   box_loss   cls_loss   dfl_loss  Instances       Size\n",
            "       1/25     0.881G      1.833      2.251      1.585          9        224: 100% 120/120 [00:51<00:00,  2.32it/s]\n",
            "                 Class     Images  Instances      Box(P          R      mAP50  mAP50-95): 100% 3/3 [00:03<00:00,  1.13s/it]\n",
            "                   all         91        131      0.632      0.611      0.578      0.266\n",
            "\n",
            "      Epoch    GPU_mem   box_loss   cls_loss   dfl_loss  Instances       Size\n",
            "       2/25     0.904G      1.374      1.079       1.22          7        224: 100% 120/120 [00:50<00:00,  2.38it/s]\n",
            "                 Class     Images  Instances      Box(P          R      mAP50  mAP50-95): 100% 3/3 [00:01<00:00,  1.73it/s]\n",
            "                   all         91        131      0.811      0.618      0.696      0.307\n",
            "\n",
            "      Epoch    GPU_mem   box_loss   cls_loss   dfl_loss  Instances       Size\n",
            "       3/25     0.904G      1.367      1.009      1.176         10        224: 100% 120/120 [00:47<00:00,  2.51it/s]\n",
            "                 Class     Images  Instances      Box(P          R      mAP50  mAP50-95): 100% 3/3 [00:02<00:00,  1.15it/s]\n",
            "                   all         91        131      0.566      0.548      0.465        0.2\n",
            "\n",
            "      Epoch    GPU_mem   box_loss   cls_loss   dfl_loss  Instances       Size\n",
            "       4/25     0.902G      1.364      1.013      1.173          8        224: 100% 120/120 [00:48<00:00,  2.50it/s]\n",
            "                 Class     Images  Instances      Box(P          R      mAP50  mAP50-95): 100% 3/3 [00:01<00:00,  1.96it/s]\n",
            "                   all         91        131      0.635      0.558      0.615      0.265\n",
            "\n",
            "      Epoch    GPU_mem   box_loss   cls_loss   dfl_loss  Instances       Size\n",
            "       5/25     0.904G      1.389      1.013      1.191          8        224: 100% 120/120 [00:47<00:00,  2.53it/s]\n",
            "                 Class     Images  Instances      Box(P          R      mAP50  mAP50-95): 100% 3/3 [00:01<00:00,  1.98it/s]\n",
            "                   all         91        131      0.685      0.595      0.615      0.267\n",
            "\n",
            "      Epoch    GPU_mem   box_loss   cls_loss   dfl_loss  Instances       Size\n",
            "       6/25     0.904G      1.366     0.9549      1.181         14        224: 100% 120/120 [00:48<00:00,  2.46it/s]\n",
            "                 Class     Images  Instances      Box(P          R      mAP50  mAP50-95): 100% 3/3 [00:02<00:00,  1.25it/s]\n",
            "                   all         91        131      0.663      0.534      0.588      0.247\n",
            "\n",
            "      Epoch    GPU_mem   box_loss   cls_loss   dfl_loss  Instances       Size\n",
            "       7/25     0.902G       1.34     0.9389       1.17         12        224: 100% 120/120 [00:50<00:00,  2.40it/s]\n",
            "                 Class     Images  Instances      Box(P          R      mAP50  mAP50-95): 100% 3/3 [00:01<00:00,  2.22it/s]\n",
            "                   all         91        131      0.633      0.542      0.528      0.221\n",
            "\n",
            "      Epoch    GPU_mem   box_loss   cls_loss   dfl_loss  Instances       Size\n",
            "       8/25     0.902G      1.278     0.8823      1.162          6        224: 100% 120/120 [00:47<00:00,  2.52it/s]\n",
            "                 Class     Images  Instances      Box(P          R      mAP50  mAP50-95): 100% 3/3 [00:02<00:00,  1.22it/s]\n",
            "                   all         91        131       0.69      0.679      0.698      0.342\n",
            "\n",
            "      Epoch    GPU_mem   box_loss   cls_loss   dfl_loss  Instances       Size\n",
            "       9/25     0.902G      1.255     0.8531       1.13          9        224: 100% 120/120 [00:49<00:00,  2.44it/s]\n",
            "                 Class     Images  Instances      Box(P          R      mAP50  mAP50-95): 100% 3/3 [00:01<00:00,  2.04it/s]\n",
            "                   all         91        131      0.747      0.586      0.616      0.283\n",
            "\n",
            "      Epoch    GPU_mem   box_loss   cls_loss   dfl_loss  Instances       Size\n",
            "      10/25     0.904G      1.235     0.8171      1.126          8        224: 100% 120/120 [00:47<00:00,  2.53it/s]\n",
            "                 Class     Images  Instances      Box(P          R      mAP50  mAP50-95): 100% 3/3 [00:01<00:00,  2.17it/s]\n",
            "                   all         91        131      0.642      0.603      0.597       0.26\n",
            "\n",
            "      Epoch    GPU_mem   box_loss   cls_loss   dfl_loss  Instances       Size\n",
            "      11/25     0.914G      1.197     0.7767      1.116          5        224: 100% 120/120 [00:48<00:00,  2.45it/s]\n",
            "                 Class     Images  Instances      Box(P          R      mAP50  mAP50-95): 100% 3/3 [00:03<00:00,  1.03s/it]\n",
            "                   all         91        131      0.668      0.614      0.651      0.283\n",
            "\n",
            "      Epoch    GPU_mem   box_loss   cls_loss   dfl_loss  Instances       Size\n",
            "      12/25     0.904G      1.163     0.7602      1.095          5        224: 100% 120/120 [00:47<00:00,  2.51it/s]\n",
            "                 Class     Images  Instances      Box(P          R      mAP50  mAP50-95): 100% 3/3 [00:01<00:00,  2.17it/s]\n",
            "                   all         91        131      0.769       0.58       0.66      0.298\n",
            "\n",
            "      Epoch    GPU_mem   box_loss   cls_loss   dfl_loss  Instances       Size\n",
            "      13/25     0.902G       1.14      0.736      1.085         10        224: 100% 120/120 [00:47<00:00,  2.54it/s]\n",
            "                 Class     Images  Instances      Box(P          R      mAP50  mAP50-95): 100% 3/3 [00:01<00:00,  2.02it/s]\n",
            "                   all         91        131      0.895      0.664      0.777      0.367\n",
            "\n",
            "      Epoch    GPU_mem   box_loss   cls_loss   dfl_loss  Instances       Size\n",
            "      14/25     0.904G      1.119     0.7088      1.071          5        224: 100% 120/120 [00:49<00:00,  2.42it/s]\n",
            "                 Class     Images  Instances      Box(P          R      mAP50  mAP50-95): 100% 3/3 [00:01<00:00,  2.02it/s]\n",
            "                   all         91        131      0.708      0.679      0.722      0.363\n",
            "\n",
            "      Epoch    GPU_mem   box_loss   cls_loss   dfl_loss  Instances       Size\n",
            "      15/25     0.904G      1.105     0.6921      1.069         11        224: 100% 120/120 [00:47<00:00,  2.51it/s]\n",
            "                 Class     Images  Instances      Box(P          R      mAP50  mAP50-95): 100% 3/3 [00:01<00:00,  2.04it/s]\n",
            "                   all         91        131      0.772      0.645      0.729      0.356\n",
            "\n",
            "      Epoch    GPU_mem   box_loss   cls_loss   dfl_loss  Instances       Size\n",
            "      16/25     0.904G      1.091     0.6629      1.057          9        224: 100% 120/120 [00:50<00:00,  2.38it/s]\n",
            "                 Class     Images  Instances      Box(P          R      mAP50  mAP50-95): 100% 3/3 [00:02<00:00,  1.21it/s]\n",
            "                   all         91        131      0.779      0.656      0.746      0.369\n",
            "\n",
            "      Epoch    GPU_mem   box_loss   cls_loss   dfl_loss  Instances       Size\n",
            "      17/25     0.902G      1.058     0.6342      1.045         11        224: 100% 120/120 [00:48<00:00,  2.50it/s]\n",
            "                 Class     Images  Instances      Box(P          R      mAP50  mAP50-95): 100% 3/3 [00:01<00:00,  2.12it/s]\n",
            "                   all         91        131      0.839      0.676      0.793      0.421\n",
            "\n",
            "      Epoch    GPU_mem   box_loss   cls_loss   dfl_loss  Instances       Size\n",
            "      18/25     0.902G      1.006     0.6209      1.021          9        224: 100% 120/120 [00:47<00:00,  2.52it/s]\n",
            "                 Class     Images  Instances      Box(P          R      mAP50  mAP50-95): 100% 3/3 [00:02<00:00,  1.29it/s]\n",
            "                   all         91        131      0.847      0.679      0.762      0.396\n",
            "\n",
            "      Epoch    GPU_mem   box_loss   cls_loss   dfl_loss  Instances       Size\n",
            "      19/25     0.904G      1.004     0.6116       1.03          8        224: 100% 120/120 [00:48<00:00,  2.49it/s]\n",
            "                 Class     Images  Instances      Box(P          R      mAP50  mAP50-95): 100% 3/3 [00:01<00:00,  2.05it/s]\n",
            "                   all         91        131      0.869      0.762      0.821      0.415\n",
            "\n",
            "      Epoch    GPU_mem   box_loss   cls_loss   dfl_loss  Instances       Size\n",
            "      20/25     0.904G     0.9731     0.5849      1.019          7        224: 100% 120/120 [00:47<00:00,  2.54it/s]\n",
            "                 Class     Images  Instances      Box(P          R      mAP50  mAP50-95): 100% 3/3 [00:01<00:00,  1.96it/s]\n",
            "                   all         91        131      0.812      0.748      0.802      0.407\n",
            "\n",
            "      Epoch    GPU_mem   box_loss   cls_loss   dfl_loss  Instances       Size\n",
            "      21/25     0.902G     0.9597     0.5703      1.013          7        224: 100% 120/120 [00:49<00:00,  2.43it/s]\n",
            "                 Class     Images  Instances      Box(P          R      mAP50  mAP50-95): 100% 3/3 [00:02<00:00,  1.39it/s]\n",
            "                   all         91        131      0.906       0.74      0.816      0.431\n",
            "\n",
            "      Epoch    GPU_mem   box_loss   cls_loss   dfl_loss  Instances       Size\n",
            "      22/25     0.904G     0.9285     0.5518      1.002         15        224: 100% 120/120 [00:48<00:00,  2.47it/s]\n",
            "                 Class     Images  Instances      Box(P          R      mAP50  mAP50-95): 100% 3/3 [00:01<00:00,  1.92it/s]\n",
            "                   all         91        131      0.856      0.718      0.783      0.427\n",
            "\n",
            "      Epoch    GPU_mem   box_loss   cls_loss   dfl_loss  Instances       Size\n",
            "      23/25     0.902G      0.918     0.5376     0.9965          8        224: 100% 120/120 [00:47<00:00,  2.54it/s]\n",
            "                 Class     Images  Instances      Box(P          R      mAP50  mAP50-95): 100% 3/3 [00:01<00:00,  2.04it/s]\n",
            "                   all         91        131      0.857       0.73      0.794      0.436\n",
            "\n",
            "      Epoch    GPU_mem   box_loss   cls_loss   dfl_loss  Instances       Size\n",
            "      24/25     0.904G     0.8911     0.5224     0.9916          9        224: 100% 120/120 [00:49<00:00,  2.42it/s]\n",
            "                 Class     Images  Instances      Box(P          R      mAP50  mAP50-95): 100% 3/3 [00:01<00:00,  1.75it/s]\n",
            "                   all         91        131      0.803      0.746      0.752      0.418\n",
            "\n",
            "      Epoch    GPU_mem   box_loss   cls_loss   dfl_loss  Instances       Size\n",
            "      25/25     0.904G     0.8869     0.5219     0.9891          7        224: 100% 120/120 [00:50<00:00,  2.39it/s]\n",
            "                 Class     Images  Instances      Box(P          R      mAP50  mAP50-95): 100% 3/3 [00:02<00:00,  1.01it/s]\n",
            "                   all         91        131      0.862      0.668      0.756      0.413\n",
            "\n",
            "25 epochs completed in 0.359 hours.\n",
            "Optimizer stripped from runs/detect/train4/weights/last.pt, 22.5MB\n",
            "Optimizer stripped from runs/detect/train4/weights/best.pt, 22.5MB\n",
            "\n",
            "Validating runs/detect/train4/weights/best.pt...\n",
            "Ultralytics YOLOv8.0.91 🚀 Python-3.10.11 torch-2.0.0+cu118 CUDA:0 (Tesla T4, 15102MiB)\n",
            "Model summary (fused): 168 layers, 11125971 parameters, 0 gradients, 28.4 GFLOPs\n",
            "                 Class     Images  Instances      Box(P          R      mAP50  mAP50-95): 100% 3/3 [00:02<00:00,  1.13it/s]\n",
            "                   all         91        131      0.856      0.727      0.794      0.436\n",
            "Speed: 0.2ms preprocess, 1.2ms inference, 0.0ms loss, 4.9ms postprocess per image\n",
            "Results saved to \u001b[1mruns/detect/train4\u001b[0m\n"
          ]
        }
      ]
    },
    {
      "cell_type": "code",
      "source": [
        "!ls /content/gdrive/MyDrive/runs/detect/train2"
      ],
      "metadata": {
        "id": "4YnBOjMN9vfT",
        "colab": {
          "base_uri": "https://localhost:8080/"
        },
        "outputId": "06d47662-0391-4cbc-e86c-98acf426d972"
      },
      "execution_count": 9,
      "outputs": [
        {
          "output_type": "stream",
          "name": "stdout",
          "text": [
            "args.yaml\t\t\t\t\t    train_batch0.jpg\n",
            "confusion_matrix.png\t\t\t\t    train_batch1.jpg\n",
            "events.out.tfevents.1682925082.dce729cecb65.1381.0  train_batch2.jpg\n",
            "F1_curve.png\t\t\t\t\t    val_batch0_labels.jpg\n",
            "labels_correlogram.jpg\t\t\t\t    val_batch0_pred.jpg\n",
            "labels.jpg\t\t\t\t\t    val_batch1_labels.jpg\n",
            "P_curve.png\t\t\t\t\t    val_batch1_pred.jpg\n",
            "PR_curve.png\t\t\t\t\t    val_batch2_labels.jpg\n",
            "R_curve.png\t\t\t\t\t    val_batch2_pred.jpg\n",
            "results.csv\t\t\t\t\t    weights\n",
            "results.png\n"
          ]
        }
      ]
    },
    {
      "cell_type": "code",
      "source": [
        "%cd /content/gdrive/MyDrive\n"
      ],
      "metadata": {
        "colab": {
          "base_uri": "https://localhost:8080/"
        },
        "id": "__3ICPi1PfaF",
        "outputId": "9b985e34-7a4e-4c1c-a2fc-4ee917638fe5"
      },
      "execution_count": 13,
      "outputs": [
        {
          "output_type": "stream",
          "name": "stdout",
          "text": [
            "/content/gdrive/MyDrive\n"
          ]
        }
      ]
    },
    {
      "cell_type": "code",
      "source": [
        "import matplotlib.pyplot as plt\n"
      ],
      "metadata": {
        "id": "oiYFMuZ0Y3b_"
      },
      "execution_count": 11,
      "outputs": []
    },
    {
      "cell_type": "code",
      "source": [
        "plt.imsave(fname=f'/content/gdrive/MyDrive/runs/detect/train2/confusion_matrix.png')"
      ],
      "metadata": {
        "colab": {
          "base_uri": "https://localhost:8080/",
          "height": 165
        },
        "id": "MK8O18tsPyZi",
        "outputId": "8eca750a-da83-46e9-a67e-d29cfcd5835f"
      },
      "execution_count": 12,
      "outputs": [
        {
          "output_type": "error",
          "ename": "TypeError",
          "evalue": "ignored",
          "traceback": [
            "\u001b[0;31m---------------------------------------------------------------------------\u001b[0m",
            "\u001b[0;31mTypeError\u001b[0m                                 Traceback (most recent call last)",
            "\u001b[0;32m<ipython-input-12-1a87d7a67908>\u001b[0m in \u001b[0;36m<cell line: 1>\u001b[0;34m()\u001b[0m\n\u001b[0;32m----> 1\u001b[0;31m \u001b[0mplt\u001b[0m\u001b[0;34m.\u001b[0m\u001b[0mimsave\u001b[0m\u001b[0;34m(\u001b[0m\u001b[0mfname\u001b[0m\u001b[0;34m=\u001b[0m\u001b[0;34mf'/content/gdrive/MyDrive/runs/detect/train2/confusion_matrix.png'\u001b[0m\u001b[0;34m)\u001b[0m\u001b[0;34m\u001b[0m\u001b[0;34m\u001b[0m\u001b[0m\n\u001b[0m",
            "\u001b[0;31mTypeError\u001b[0m: imsave() missing 1 required positional argument: 'arr'"
          ]
        }
      ]
    },
    {
      "cell_type": "code",
      "source": [
        "%cd /content/gdrive/MyDrive\n",
        "\n",
        "!yolo task=detect mode=predict model=/content/gdrive/MyDrive/runs/detect/train2/weights/best.pt conf=0.25 source={dataset.location}/test/images"
      ],
      "metadata": {
        "colab": {
          "base_uri": "https://localhost:8080/"
        },
        "id": "JYRka5D8cf_a",
        "outputId": "aa43c258-1960-4a36-a8a5-43b9c6ecfe12"
      },
      "execution_count": 14,
      "outputs": [
        {
          "output_type": "stream",
          "name": "stdout",
          "text": [
            "/content/gdrive/MyDrive\n",
            "Ultralytics YOLOv8.0.91 🚀 Python-3.10.11 torch-2.0.0+cu118 CUDA:0 (Tesla T4, 15102MiB)\n",
            "Model summary (fused): 168 layers, 11125971 parameters, 0 gradients, 28.4 GFLOPs\n",
            "\n",
            "image 1/85 /content/shopping-cart-2/test/images/000005_jpg.rf.fd4b8241d9960058f41787f870c8c2b3.jpg: 224x224 1 trolley, 8.6ms\n",
            "image 2/85 /content/shopping-cart-2/test/images/000007_jpg.rf.a8ab6903219e555dc123225396352c96.jpg: 224x224 1 trolley, 7.1ms\n",
            "image 3/85 /content/shopping-cart-2/test/images/000008_jpg.rf.db580e73a1278044156fa062b3b532c4.jpg: 224x224 1 trolley, 7.0ms\n",
            "image 4/85 /content/shopping-cart-2/test/images/000017_jpg.rf.226656072ea6ce29a6d4fc222ca376f4.jpg: 224x224 1 trolley, 6.9ms\n",
            "image 5/85 /content/shopping-cart-2/test/images/000020_jpg.rf.4a6808cb800b35eaaa983200d01a5308.jpg: 224x224 1 trolley, 6.9ms\n",
            "image 6/85 /content/shopping-cart-2/test/images/000028_jpg.rf.e7f79a36cd239be2c9cb65ac5bf5c59b.jpg: 224x224 1 trolley, 7.0ms\n",
            "image 7/85 /content/shopping-cart-2/test/images/000030_jpg.rf.2e57aee42c1704587babd7ba01aeb659.jpg: 224x224 1 trolley, 6.9ms\n",
            "image 8/85 /content/shopping-cart-2/test/images/000039_jpg.rf.508e29fc15751e80394b24aaddab834d.jpg: 224x224 2 trolleys, 6.9ms\n",
            "image 9/85 /content/shopping-cart-2/test/images/000054_jpg.rf.4b44d5d62b764f8ddd17bfdc77d89cbf.jpg: 224x224 1 trolley, 7.0ms\n",
            "image 10/85 /content/shopping-cart-2/test/images/000098_jpg.rf.003eeca5777ad131c3daa35bc2d20b89.jpg: 224x224 (no detections), 6.9ms\n",
            "image 11/85 /content/shopping-cart-2/test/images/06e89a466df228f41d5c5b8f17b22bb7_jpg.rf.f26a23f50d39e090a51cd8adc92db15c.jpg: 224x224 1 trolley, 6.9ms\n",
            "image 12/85 /content/shopping-cart-2/test/images/HTB18Xs7XDZRMeJjSspkq6xGpXXaD_jpg.rf.763a92fcde187afa18062c5787edc788.jpg: 224x224 1 trolley, 6.9ms\n",
            "image 13/85 /content/shopping-cart-2/test/images/IMG_124_jpg.rf.6d0fa57f7b2ef868b8ff072cafb9ab3d.jpg: 224x224 2 trolleys, 6.8ms\n",
            "image 14/85 /content/shopping-cart-2/test/images/IMG_125_jpg.rf.d40af72c61698be77447e07023cddaec.jpg: 224x224 2 trolleys, 6.8ms\n",
            "image 15/85 /content/shopping-cart-2/test/images/IMG_13_jpg.rf.d870c2d08f725ff0578463533f1212fc.jpg: 224x224 1 trolley, 7.0ms\n",
            "image 16/85 /content/shopping-cart-2/test/images/IMG_15_jpg.rf.9a3ad0d12e6f4d5de1c02e1d9edd54d8.jpg: 224x224 1 trolley, 8.2ms\n",
            "image 17/85 /content/shopping-cart-2/test/images/IMG_161_jpg.rf.7c81295bc7975c6789857d333bb07cce.jpg: 224x224 (no detections), 7.0ms\n",
            "image 18/85 /content/shopping-cart-2/test/images/IMG_171_jpg.rf.5e8df25cbfab1afd0d6ed6dd5a48a323.jpg: 224x224 1 trolley, 6.9ms\n",
            "image 19/85 /content/shopping-cart-2/test/images/IMG_179_jpg.rf.4d1aa2d5e0910701bdda08d464ec482c.jpg: 224x224 1 trolley, 6.8ms\n",
            "image 20/85 /content/shopping-cart-2/test/images/IMG_17_jpg.rf.112c3e20c96a41162da2126fec2bb15e.jpg: 224x224 2 trolleys, 7.0ms\n",
            "image 21/85 /content/shopping-cart-2/test/images/IMG_190_jpg.rf.a01a96646ed870b875fcd269334f33a1.jpg: 224x224 1 trolley, 7.0ms\n",
            "image 22/85 /content/shopping-cart-2/test/images/IMG_196_jpg.rf.ad570ea9d96bb1ee26acc141c2670981.jpg: 224x224 (no detections), 6.9ms\n",
            "image 23/85 /content/shopping-cart-2/test/images/IMG_202_jpg.rf.194b5aadfad0a3ea6e52fe4d65abe03a.jpg: 224x224 2 trolleys, 6.9ms\n",
            "image 24/85 /content/shopping-cart-2/test/images/IMG_213_jpg.rf.da28704be19ee1ea21f2586ab08c9390.jpg: 224x224 1 trolley, 6.8ms\n",
            "image 25/85 /content/shopping-cart-2/test/images/IMG_217_jpg.rf.d4723965ef1cdc5d98638efec64e4526.jpg: 224x224 1 trolley, 8.6ms\n",
            "image 26/85 /content/shopping-cart-2/test/images/IMG_218_jpg.rf.66cf7d26faa78df141e1b2702566166d.jpg: 224x224 1 trolley, 6.8ms\n",
            "image 27/85 /content/shopping-cart-2/test/images/IMG_219_jpg.rf.86f8e43e1d591e0820354ebe686c4a6a.jpg: 224x224 1 trolley, 7.0ms\n",
            "image 28/85 /content/shopping-cart-2/test/images/IMG_220_jpg.rf.4515f1ff636290ba84f5670946b1bd69.jpg: 224x224 1 trolley, 6.9ms\n",
            "image 29/85 /content/shopping-cart-2/test/images/IMG_221_jpg.rf.130c24b712e290673f33bc0ca48478d2.jpg: 224x224 1 trolley, 6.8ms\n",
            "image 30/85 /content/shopping-cart-2/test/images/IMG_22_jpg.rf.ed676af92b63201b38c8f6b0e0826387.jpg: 224x224 2 trolleys, 6.9ms\n",
            "image 31/85 /content/shopping-cart-2/test/images/IMG_234_jpg.rf.2f331b3416d892e48ff918f1948a08de.jpg: 224x224 2 trolleys, 7.0ms\n",
            "image 32/85 /content/shopping-cart-2/test/images/IMG_245_jpg.rf.7be0c0041c95e0b8b800dd54f81881a8.jpg: 224x224 1 trolley, 6.8ms\n",
            "image 33/85 /content/shopping-cart-2/test/images/IMG_247_jpg.rf.5cf3142e1b63f6745b7e46eefd748296.jpg: 224x224 2 trolleys, 7.1ms\n",
            "image 34/85 /content/shopping-cart-2/test/images/IMG_252_jpg.rf.81dc5fba981a561d321a47acdc6cecc8.jpg: 224x224 1 trolley, 6.8ms\n",
            "image 35/85 /content/shopping-cart-2/test/images/IMG_253_jpg.rf.d2d2e8797b4238cc83b3052ad1cd6ee0.jpg: 224x224 1 trolley, 6.9ms\n",
            "image 36/85 /content/shopping-cart-2/test/images/IMG_256_jpg.rf.cc98fd4417d30517d67eeee36c3f07ba.jpg: 224x224 1 trolley, 7.0ms\n",
            "image 37/85 /content/shopping-cart-2/test/images/IMG_259_jpg.rf.facaf2b1f5575477b166e432a2cd6d9a.jpg: 224x224 (no detections), 7.0ms\n",
            "image 38/85 /content/shopping-cart-2/test/images/IMG_275_jpg.rf.8acb200369ae7941697329c60a7fe73b.jpg: 224x224 1 trolley, 6.9ms\n",
            "image 39/85 /content/shopping-cart-2/test/images/IMG_278_jpg.rf.6aef5700bc487cfb42aa8687862ec87c.jpg: 224x224 3 trolleys, 6.9ms\n",
            "image 40/85 /content/shopping-cart-2/test/images/IMG_286_jpg.rf.de0d549d2ad18e1409875494df2dcb62.jpg: 224x224 (no detections), 6.9ms\n",
            "image 41/85 /content/shopping-cart-2/test/images/IMG_287_jpg.rf.1117c6c8434b7e825f6f7c3276c30c43.jpg: 224x224 1 trolley, 6.9ms\n",
            "image 42/85 /content/shopping-cart-2/test/images/IMG_296_jpg.rf.99dd1254bc21d2a75c24e80969cc889a.jpg: 224x224 2 trolleys, 6.9ms\n",
            "image 43/85 /content/shopping-cart-2/test/images/IMG_300_jpg.rf.28cd5e84cba0ef06219be72bf6c503e2.jpg: 224x224 1 trolley, 7.0ms\n",
            "image 44/85 /content/shopping-cart-2/test/images/IMG_311_jpg.rf.849d8b736a9e533e388e8eb7b2c36c88.jpg: 224x224 1 trolley, 7.0ms\n",
            "image 45/85 /content/shopping-cart-2/test/images/IMG_312_jpg.rf.c287cb1a611b9117f53ba2a8224b0aa2.jpg: 224x224 2 trolleys, 7.1ms\n",
            "image 46/85 /content/shopping-cart-2/test/images/IMG_314_jpg.rf.66862eccf61d70188b87418f9abeac18.jpg: 224x224 1 trolley, 7.2ms\n",
            "image 47/85 /content/shopping-cart-2/test/images/IMG_317_jpg.rf.4b1eeef78396c0a5bcfa72c13fe553a2.jpg: 224x224 2 trolleys, 7.0ms\n",
            "image 48/85 /content/shopping-cart-2/test/images/IMG_320_jpg.rf.4af0f538ffe97f61fe64c28ea5d8d0a7.jpg: 224x224 1 trolley, 7.1ms\n",
            "image 49/85 /content/shopping-cart-2/test/images/IMG_328_jpg.rf.1b85840c8509b6d08c294601ecc18514.jpg: 224x224 1 trolley, 6.9ms\n",
            "image 50/85 /content/shopping-cart-2/test/images/IMG_329_jpg.rf.898fd364afce7681d4a97d5fa3796d81.jpg: 224x224 1 trolley, 6.9ms\n",
            "image 51/85 /content/shopping-cart-2/test/images/IMG_33_jpg.rf.b0ce2a621d8e70db1ccb9e2ef5bb68de.jpg: 224x224 2 trolleys, 10.7ms\n",
            "image 52/85 /content/shopping-cart-2/test/images/IMG_34_jpg.rf.d7223045c0f2ed12d9f90cd53fa5f4f6.jpg: 224x224 2 trolleys, 7.0ms\n",
            "image 53/85 /content/shopping-cart-2/test/images/IMG_355_jpg.rf.71bcecc6cea1fe26ed42c2394a4e22b8.jpg: 224x224 1 trolley, 7.0ms\n",
            "image 54/85 /content/shopping-cart-2/test/images/IMG_356_jpg.rf.81b3c199fe13f098a86c60d1998b63a6.jpg: 224x224 1 trolley, 7.0ms\n",
            "image 55/85 /content/shopping-cart-2/test/images/IMG_356_jpg.rf.a1dd8daa53d27dd381f2fe9646010dae.jpg: 224x224 1 trolley, 7.1ms\n",
            "image 56/85 /content/shopping-cart-2/test/images/IMG_383_jpg.rf.b1be71d2e26a917776063711e33b360d.jpg: 224x224 (no detections), 7.0ms\n",
            "image 57/85 /content/shopping-cart-2/test/images/IMG_386_jpg.rf.92b23babc9a9999c93ffd7e95c77de4c.jpg: 224x224 (no detections), 7.3ms\n",
            "image 58/85 /content/shopping-cart-2/test/images/IMG_387_jpg.rf.7fa6f44e76a27c0ca41eebb5429d2355.jpg: 224x224 1 trolley, 6.9ms\n",
            "image 59/85 /content/shopping-cart-2/test/images/IMG_38_jpg.rf.68b68e6882a3e07f4fe7cd46c0a8953f.jpg: 224x224 2 trolleys, 7.0ms\n",
            "image 60/85 /content/shopping-cart-2/test/images/IMG_3_jpg.rf.b9c06900773a10651063cfb976e68d4d.jpg: 224x224 1 trolley, 6.9ms\n",
            "image 61/85 /content/shopping-cart-2/test/images/IMG_409_jpg.rf.2e13372040267c35cf837d2771543d3a.jpg: 224x224 1 trolley, 7.0ms\n",
            "image 62/85 /content/shopping-cart-2/test/images/IMG_435_jpg.rf.0501ccf522a0aa77c4c64d9373becd14.jpg: 224x224 1 trolley, 6.8ms\n",
            "image 63/85 /content/shopping-cart-2/test/images/IMG_4_jpg.rf.59050cedee40b3e07cf438801d451976.jpg: 224x224 1 trolley, 6.8ms\n",
            "image 64/85 /content/shopping-cart-2/test/images/IMG_52_jpg.rf.7ab3127cce37257ca1c9e7cd2fc1bf51.jpg: 224x224 2 trolleys, 7.0ms\n",
            "image 65/85 /content/shopping-cart-2/test/images/IMG_53_jpg.rf.1f6764bc5032ac3e5300620a2e409ccf.jpg: 224x224 1 trolley, 7.0ms\n",
            "image 66/85 /content/shopping-cart-2/test/images/IMG_53_jpg.rf.609368b2b580667215ddf51a096b8969.jpg: 224x224 3 trolleys, 7.0ms\n",
            "image 67/85 /content/shopping-cart-2/test/images/IMG_55_jpg.rf.99918cddff0524ffe01ecb68025dff02.jpg: 224x224 2 trolleys, 6.9ms\n",
            "image 68/85 /content/shopping-cart-2/test/images/IMG_58_jpg.rf.ce96544c674ee8311fd15804f436eed8.jpg: 224x224 1 trolley, 6.9ms\n",
            "image 69/85 /content/shopping-cart-2/test/images/IMG_63_jpg.rf.7b56c63b63e2844501ae31196fa39c69.jpg: 224x224 1 trolley, 7.1ms\n",
            "image 70/85 /content/shopping-cart-2/test/images/IMG_6_jpg.rf.c8c4032c792ed182739f0d69738b95ff.jpg: 224x224 1 trolley, 6.8ms\n",
            "image 71/85 /content/shopping-cart-2/test/images/IMG_82_jpg.rf.9523ee6e1d7b5f191ef0ca01a36de505.jpg: 224x224 1 trolley, 6.8ms\n",
            "image 72/85 /content/shopping-cart-2/test/images/IMG_86_jpg.rf.60e2055a4b8dc5fb346a045585a00971.jpg: 224x224 1 trolley, 6.9ms\n",
            "image 73/85 /content/shopping-cart-2/test/images/IMG_86_jpg.rf.64a1960a3b6cf81ab0763e6257444391.jpg: 224x224 1 trolley, 6.9ms\n",
            "image 74/85 /content/shopping-cart-2/test/images/IMG_87_jpg.rf.36bb69cd8e3ea5d5f1ee9eb2e91c46e7.jpg: 224x224 1 trolley, 6.9ms\n",
            "image 75/85 /content/shopping-cart-2/test/images/IMG_98_jpg.rf.c1c3c5105cfb3b9f1ba47e984442ef68.jpg: 224x224 (no detections), 6.9ms\n",
            "image 76/85 /content/shopping-cart-2/test/images/Photo143_jpg.rf.9d6f2766aade6fdec33e7c4eb4787bc0.jpg: 224x224 1 trolley, 6.9ms\n",
            "image 77/85 /content/shopping-cart-2/test/images/ShoppingTrolley3dsmodel001-jpg3F7846E7-59A9-4B38-BFFE-C1FCB23B579BLarge_jpg.rf.da146f19cde898e53968b95ce8fa2e19.jpg: 224x224 1 trolley, 6.8ms\n",
            "image 78/85 /content/shopping-cart-2/test/images/a1bc691bbd216cbd14e9e23f32efaece_png_jpg.rf.0c77d546e67c597748367e140c4a3fe6.jpg: 224x224 1 trolley, 6.9ms\n",
            "image 79/85 /content/shopping-cart-2/test/images/g-to-capitalise-on-his-early-mover-advantage-picture-taken-on-octobe-2d0pkkh_jpg.rf.bf285fdfe9997375b5590b7673dadf4d.jpg: 224x224 1 trolley, 6.9ms\n",
            "image 80/85 /content/shopping-cart-2/test/images/image21_jpeg_jpg.rf.8e5334e653eba82c6e621e6e87b3c1f9.jpg: 224x224 1 trolley, 7.0ms\n",
            "image 81/85 /content/shopping-cart-2/test/images/page-01-16-1_jpeg_jpg.rf.b717583d62e721cc828dc13cc82505d1.jpg: 224x224 1 trolley, 7.0ms\n",
            "image 82/85 /content/shopping-cart-2/test/images/pexels-jack-sparrow-4199347_jpg.rf.5bf4fa008946e3feb4f343c736a83f28.jpg: 224x224 1 trolley, 7.0ms\n",
            "image 83/85 /content/shopping-cart-2/test/images/rel2_jpeg_jpg.rf.bd97bb9a1a374f0d8b4830b1218ecf12.jpg: 224x224 2 trolleys, 7.0ms\n",
            "image 84/85 /content/shopping-cart-2/test/images/scene00901_jpg.rf.072c464d08f90085323baaef2d5588f2.jpg: 224x224 1 trolley, 8.5ms\n",
            "image 85/85 /content/shopping-cart-2/test/images/www-istockphoto-com-oBhdTu9m2KRTT_jpeg_jpg.rf.e8008a27322eb37248655de1d6a6c3ee.jpg: 224x224 1 trolley, 7.1ms\n",
            "Speed: 0.6ms preprocess, 7.1ms inference, 2.4ms postprocess per image at shape (1, 3, 224, 224)\n",
            "Results saved to \u001b[1mruns/detect/predict6\u001b[0m\n"
          ]
        }
      ]
    },
    {
      "cell_type": "code",
      "source": [
        "import glob\n",
        "from IPython.display import Image, display\n",
        "\n",
        "for image_path in glob.glob(f'/content/gdrive/MyDrive/runs/detect/predict2/*.jpg')[:1]:\n",
        "  display(Image(filename=image_path,width=600))\n",
        "  print(\"\\n\")"
      ],
      "metadata": {
        "colab": {
          "base_uri": "https://localhost:8080/",
          "height": 652
        },
        "id": "k3A4o9kOdjQQ",
        "outputId": "d47e29f6-d278-4864-c41f-db4356c49f49"
      },
      "execution_count": 15,
      "outputs": [
        {
          "output_type": "display_data",
          "data": {
            "image/jpeg": "[encoded data removed]",
            "text/plain": [
              "<IPython.core.display.Image object>"
            ]
          },
          "metadata": {
            "image/jpeg": {
              "width": 600
            }
          }
        },
        {
          "output_type": "stream",
          "name": "stdout",
          "text": [
            "\n",
            "\n"
          ]
        }
      ]
    },
    {
      "cell_type": "code",
      "source": [
        "%cd /content/gdrive/MyDrive\n",
        "\n",
        "!yolo task=detect mode=predict model=/content/gdrive/MyDrive/runs/detect/train2/weights/best.pt conf=0.25 source=/content/shoppingcart.mp4"
      ],
      "metadata": {
        "colab": {
          "base_uri": "https://localhost:8080/"
        },
        "id": "Y3iIKE2pj3hk",
        "outputId": "42b9362c-9415-46d7-e5dd-f9d6e5a42ca3"
      },
      "execution_count": 17,
      "outputs": [
        {
          "output_type": "stream",
          "name": "stdout",
          "text": [
            "/content/gdrive/MyDrive\n",
            "Ultralytics YOLOv8.0.91 🚀 Python-3.10.11 torch-2.0.0+cu118 CUDA:0 (Tesla T4, 15102MiB)\n",
            "Model summary (fused): 168 layers, 11125971 parameters, 0 gradients, 28.4 GFLOPs\n",
            "\n",
            "video 1/1 (1/238) /content/shoppingcart.mp4: 128x224 (no detections), 100.8ms\n",
            "video 1/1 (2/238) /content/shoppingcart.mp4: 128x224 (no detections), 10.2ms\n",
            "video 1/1 (3/238) /content/shoppingcart.mp4: 128x224 (no detections), 9.4ms\n",
            "video 1/1 (4/238) /content/shoppingcart.mp4: 128x224 (no detections), 9.3ms\n",
            "video 1/1 (5/238) /content/shoppingcart.mp4: 128x224 (no detections), 9.5ms\n",
            "video 1/1 (6/238) /content/shoppingcart.mp4: 128x224 (no detections), 9.4ms\n",
            "video 1/1 (7/238) /content/shoppingcart.mp4: 128x224 1 trolley, 9.4ms\n",
            "video 1/1 (8/238) /content/shoppingcart.mp4: 128x224 1 trolley, 9.7ms\n",
            "video 1/1 (9/238) /content/shoppingcart.mp4: 128x224 1 trolley, 9.3ms\n",
            "video 1/1 (10/238) /content/shoppingcart.mp4: 128x224 1 trolley, 14.2ms\n",
            "video 1/1 (11/238) /content/shoppingcart.mp4: 128x224 1 trolley, 9.6ms\n",
            "video 1/1 (12/238) /content/shoppingcart.mp4: 128x224 1 trolley, 9.5ms\n",
            "video 1/1 (13/238) /content/shoppingcart.mp4: 128x224 2 trolleys, 9.7ms\n",
            "video 1/1 (14/238) /content/shoppingcart.mp4: 128x224 3 trolleys, 9.5ms\n",
            "video 1/1 (15/238) /content/shoppingcart.mp4: 128x224 1 trolley, 9.7ms\n",
            "video 1/1 (16/238) /content/shoppingcart.mp4: 128x224 1 trolley, 9.5ms\n",
            "video 1/1 (17/238) /content/shoppingcart.mp4: 128x224 1 trolley, 9.5ms\n",
            "video 1/1 (18/238) /content/shoppingcart.mp4: 128x224 1 trolley, 9.2ms\n",
            "video 1/1 (19/238) /content/shoppingcart.mp4: 128x224 2 trolleys, 9.0ms\n",
            "video 1/1 (20/238) /content/shoppingcart.mp4: 128x224 1 trolley, 8.8ms\n",
            "video 1/1 (21/238) /content/shoppingcart.mp4: 128x224 (no detections), 9.3ms\n",
            "video 1/1 (22/238) /content/shoppingcart.mp4: 128x224 1 trolley, 10.9ms\n",
            "video 1/1 (23/238) /content/shoppingcart.mp4: 128x224 (no detections), 9.1ms\n",
            "video 1/1 (24/238) /content/shoppingcart.mp4: 128x224 (no detections), 10.3ms\n",
            "video 1/1 (25/238) /content/shoppingcart.mp4: 128x224 (no detections), 8.8ms\n",
            "video 1/1 (26/238) /content/shoppingcart.mp4: 128x224 (no detections), 8.7ms\n",
            "video 1/1 (27/238) /content/shoppingcart.mp4: 128x224 (no detections), 8.8ms\n",
            "video 1/1 (28/238) /content/shoppingcart.mp4: 128x224 (no detections), 8.9ms\n",
            "video 1/1 (29/238) /content/shoppingcart.mp4: 128x224 (no detections), 9.1ms\n",
            "video 1/1 (30/238) /content/shoppingcart.mp4: 128x224 (no detections), 9.5ms\n",
            "video 1/1 (31/238) /content/shoppingcart.mp4: 128x224 1 trolley, 8.2ms\n",
            "video 1/1 (32/238) /content/shoppingcart.mp4: 128x224 1 trolley, 8.9ms\n",
            "video 1/1 (33/238) /content/shoppingcart.mp4: 128x224 1 trolley, 8.1ms\n",
            "video 1/1 (34/238) /content/shoppingcart.mp4: 128x224 1 trolley, 8.3ms\n",
            "video 1/1 (35/238) /content/shoppingcart.mp4: 128x224 1 trolley, 8.2ms\n",
            "video 1/1 (36/238) /content/shoppingcart.mp4: 128x224 1 trolley, 8.1ms\n",
            "video 1/1 (37/238) /content/shoppingcart.mp4: 128x224 1 trolley, 8.3ms\n",
            "video 1/1 (38/238) /content/shoppingcart.mp4: 128x224 1 trolley, 8.5ms\n",
            "video 1/1 (39/238) /content/shoppingcart.mp4: 128x224 1 trolley, 8.2ms\n",
            "video 1/1 (40/238) /content/shoppingcart.mp4: 128x224 2 trolleys, 8.2ms\n",
            "video 1/1 (41/238) /content/shoppingcart.mp4: 128x224 2 trolleys, 8.3ms\n",
            "video 1/1 (42/238) /content/shoppingcart.mp4: 128x224 2 trolleys, 8.1ms\n",
            "video 1/1 (43/238) /content/shoppingcart.mp4: 128x224 2 trolleys, 7.9ms\n",
            "video 1/1 (44/238) /content/shoppingcart.mp4: 128x224 3 trolleys, 8.2ms\n",
            "video 1/1 (45/238) /content/shoppingcart.mp4: 128x224 2 trolleys, 8.3ms\n",
            "video 1/1 (46/238) /content/shoppingcart.mp4: 128x224 3 trolleys, 8.2ms\n",
            "video 1/1 (47/238) /content/shoppingcart.mp4: 128x224 2 trolleys, 8.2ms\n",
            "video 1/1 (48/238) /content/shoppingcart.mp4: 128x224 3 trolleys, 8.1ms\n",
            "video 1/1 (49/238) /content/shoppingcart.mp4: 128x224 3 trolleys, 8.2ms\n",
            "video 1/1 (50/238) /content/shoppingcart.mp4: 128x224 3 trolleys, 8.1ms\n",
            "video 1/1 (51/238) /content/shoppingcart.mp4: 128x224 2 trolleys, 8.1ms\n",
            "video 1/1 (52/238) /content/shoppingcart.mp4: 128x224 2 trolleys, 8.5ms\n",
            "video 1/1 (53/238) /content/shoppingcart.mp4: 128x224 2 trolleys, 8.7ms\n",
            "video 1/1 (54/238) /content/shoppingcart.mp4: 128x224 2 trolleys, 8.3ms\n",
            "video 1/1 (55/238) /content/shoppingcart.mp4: 128x224 2 trolleys, 10.1ms\n",
            "video 1/1 (56/238) /content/shoppingcart.mp4: 128x224 2 trolleys, 9.7ms\n",
            "video 1/1 (57/238) /content/shoppingcart.mp4: 128x224 2 trolleys, 8.4ms\n",
            "video 1/1 (58/238) /content/shoppingcart.mp4: 128x224 2 trolleys, 8.4ms\n",
            "video 1/1 (59/238) /content/shoppingcart.mp4: 128x224 2 trolleys, 8.6ms\n",
            "video 1/1 (60/238) /content/shoppingcart.mp4: 128x224 2 trolleys, 8.3ms\n",
            "video 1/1 (61/238) /content/shoppingcart.mp4: 128x224 2 trolleys, 8.4ms\n",
            "video 1/1 (62/238) /content/shoppingcart.mp4: 128x224 2 trolleys, 8.6ms\n",
            "video 1/1 (63/238) /content/shoppingcart.mp4: 128x224 2 trolleys, 8.9ms\n",
            "video 1/1 (64/238) /content/shoppingcart.mp4: 128x224 2 trolleys, 8.3ms\n",
            "video 1/1 (65/238) /content/shoppingcart.mp4: 128x224 2 trolleys, 8.3ms\n",
            "video 1/1 (66/238) /content/shoppingcart.mp4: 128x224 3 trolleys, 8.2ms\n",
            "video 1/1 (67/238) /content/shoppingcart.mp4: 128x224 3 trolleys, 8.3ms\n",
            "video 1/1 (68/238) /content/shoppingcart.mp4: 128x224 2 trolleys, 8.3ms\n",
            "video 1/1 (69/238) /content/shoppingcart.mp4: 128x224 3 trolleys, 8.5ms\n",
            "video 1/1 (70/238) /content/shoppingcart.mp4: 128x224 2 trolleys, 8.4ms\n",
            "video 1/1 (71/238) /content/shoppingcart.mp4: 128x224 3 trolleys, 8.4ms\n",
            "video 1/1 (72/238) /content/shoppingcart.mp4: 128x224 3 trolleys, 9.2ms\n",
            "video 1/1 (73/238) /content/shoppingcart.mp4: 128x224 3 trolleys, 8.5ms\n",
            "video 1/1 (74/238) /content/shoppingcart.mp4: 128x224 3 trolleys, 8.1ms\n",
            "video 1/1 (75/238) /content/shoppingcart.mp4: 128x224 4 trolleys, 8.0ms\n",
            "video 1/1 (76/238) /content/shoppingcart.mp4: 128x224 4 trolleys, 8.2ms\n",
            "video 1/1 (77/238) /content/shoppingcart.mp4: 128x224 3 trolleys, 8.2ms\n",
            "video 1/1 (78/238) /content/shoppingcart.mp4: 128x224 2 trolleys, 8.8ms\n",
            "video 1/1 (79/238) /content/shoppingcart.mp4: 128x224 2 trolleys, 8.4ms\n",
            "video 1/1 (80/238) /content/shoppingcart.mp4: 128x224 3 trolleys, 8.4ms\n",
            "video 1/1 (81/238) /content/shoppingcart.mp4: 128x224 2 trolleys, 8.1ms\n",
            "video 1/1 (82/238) /content/shoppingcart.mp4: 128x224 2 trolleys, 8.4ms\n",
            "video 1/1 (83/238) /content/shoppingcart.mp4: 128x224 2 trolleys, 8.0ms\n",
            "video 1/1 (84/238) /content/shoppingcart.mp4: 128x224 3 trolleys, 8.2ms\n",
            "video 1/1 (85/238) /content/shoppingcart.mp4: 128x224 3 trolleys, 9.9ms\n",
            "video 1/1 (86/238) /content/shoppingcart.mp4: 128x224 2 trolleys, 8.8ms\n",
            "video 1/1 (87/238) /content/shoppingcart.mp4: 128x224 2 trolleys, 9.9ms\n",
            "video 1/1 (88/238) /content/shoppingcart.mp4: 128x224 3 trolleys, 8.0ms\n",
            "video 1/1 (89/238) /content/shoppingcart.mp4: 128x224 3 trolleys, 10.4ms\n",
            "video 1/1 (90/238) /content/shoppingcart.mp4: 128x224 2 trolleys, 9.9ms\n",
            "video 1/1 (91/238) /content/shoppingcart.mp4: 128x224 3 trolleys, 8.0ms\n",
            "video 1/1 (92/238) /content/shoppingcart.mp4: 128x224 3 trolleys, 8.3ms\n",
            "video 1/1 (93/238) /content/shoppingcart.mp4: 128x224 3 trolleys, 9.1ms\n",
            "video 1/1 (94/238) /content/shoppingcart.mp4: 128x224 2 trolleys, 14.4ms\n",
            "video 1/1 (95/238) /content/shoppingcart.mp4: 128x224 3 trolleys, 8.4ms\n",
            "video 1/1 (96/238) /content/shoppingcart.mp4: 128x224 3 trolleys, 8.4ms\n",
            "video 1/1 (97/238) /content/shoppingcart.mp4: 128x224 3 trolleys, 10.2ms\n",
            "video 1/1 (98/238) /content/shoppingcart.mp4: 128x224 3 trolleys, 10.1ms\n",
            "video 1/1 (99/238) /content/shoppingcart.mp4: 128x224 2 trolleys, 8.6ms\n",
            "video 1/1 (100/238) /content/shoppingcart.mp4: 128x224 2 trolleys, 8.0ms\n",
            "video 1/1 (101/238) /content/shoppingcart.mp4: 128x224 3 trolleys, 7.9ms\n",
            "video 1/1 (102/238) /content/shoppingcart.mp4: 128x224 3 trolleys, 7.9ms\n",
            "video 1/1 (103/238) /content/shoppingcart.mp4: 128x224 2 trolleys, 8.0ms\n",
            "video 1/1 (104/238) /content/shoppingcart.mp4: 128x224 2 trolleys, 8.2ms\n",
            "video 1/1 (105/238) /content/shoppingcart.mp4: 128x224 3 trolleys, 8.2ms\n",
            "video 1/1 (106/238) /content/shoppingcart.mp4: 128x224 2 trolleys, 8.0ms\n",
            "video 1/1 (107/238) /content/shoppingcart.mp4: 128x224 2 trolleys, 7.9ms\n",
            "video 1/1 (108/238) /content/shoppingcart.mp4: 128x224 3 trolleys, 8.3ms\n",
            "video 1/1 (109/238) /content/shoppingcart.mp4: 128x224 3 trolleys, 8.0ms\n",
            "video 1/1 (110/238) /content/shoppingcart.mp4: 128x224 3 trolleys, 8.1ms\n",
            "video 1/1 (111/238) /content/shoppingcart.mp4: 128x224 2 trolleys, 8.2ms\n",
            "video 1/1 (112/238) /content/shoppingcart.mp4: 128x224 2 trolleys, 7.9ms\n",
            "video 1/1 (113/238) /content/shoppingcart.mp4: 128x224 4 trolleys, 8.5ms\n",
            "video 1/1 (114/238) /content/shoppingcart.mp4: 128x224 2 trolleys, 8.2ms\n",
            "video 1/1 (115/238) /content/shoppingcart.mp4: 128x224 4 trolleys, 8.0ms\n",
            "video 1/1 (116/238) /content/shoppingcart.mp4: 128x224 1 trolley, 8.2ms\n",
            "video 1/1 (117/238) /content/shoppingcart.mp4: 128x224 1 trolley, 7.9ms\n",
            "video 1/1 (118/238) /content/shoppingcart.mp4: 128x224 1 trolley, 7.9ms\n",
            "video 1/1 (119/238) /content/shoppingcart.mp4: 128x224 1 trolley, 9.0ms\n",
            "video 1/1 (120/238) /content/shoppingcart.mp4: 128x224 1 trolley, 9.4ms\n",
            "video 1/1 (121/238) /content/shoppingcart.mp4: 128x224 1 trolley, 8.5ms\n",
            "video 1/1 (122/238) /content/shoppingcart.mp4: 128x224 1 trolley, 8.2ms\n",
            "video 1/1 (123/238) /content/shoppingcart.mp4: 128x224 2 trolleys, 8.1ms\n",
            "video 1/1 (124/238) /content/shoppingcart.mp4: 128x224 2 trolleys, 8.3ms\n",
            "video 1/1 (125/238) /content/shoppingcart.mp4: 128x224 2 trolleys, 8.4ms\n",
            "video 1/1 (126/238) /content/shoppingcart.mp4: 128x224 2 trolleys, 8.0ms\n",
            "video 1/1 (127/238) /content/shoppingcart.mp4: 128x224 2 trolleys, 8.5ms\n",
            "video 1/1 (128/238) /content/shoppingcart.mp4: 128x224 2 trolleys, 8.3ms\n",
            "video 1/1 (129/238) /content/shoppingcart.mp4: 128x224 2 trolleys, 7.9ms\n",
            "video 1/1 (130/238) /content/shoppingcart.mp4: 128x224 3 trolleys, 8.1ms\n",
            "video 1/1 (131/238) /content/shoppingcart.mp4: 128x224 3 trolleys, 8.1ms\n",
            "video 1/1 (132/238) /content/shoppingcart.mp4: 128x224 (no detections), 8.3ms\n",
            "video 1/1 (133/238) /content/shoppingcart.mp4: 128x224 1 trolley, 8.2ms\n",
            "video 1/1 (134/238) /content/shoppingcart.mp4: 128x224 1 trolley, 8.0ms\n",
            "video 1/1 (135/238) /content/shoppingcart.mp4: 128x224 2 trolleys, 8.0ms\n",
            "video 1/1 (136/238) /content/shoppingcart.mp4: 128x224 1 trolley, 8.6ms\n",
            "video 1/1 (137/238) /content/shoppingcart.mp4: 128x224 1 trolley, 8.7ms\n",
            "video 1/1 (138/238) /content/shoppingcart.mp4: 128x224 1 trolley, 9.5ms\n",
            "video 1/1 (139/238) /content/shoppingcart.mp4: 128x224 1 trolley, 10.2ms\n",
            "video 1/1 (140/238) /content/shoppingcart.mp4: 128x224 2 trolleys, 9.2ms\n",
            "video 1/1 (141/238) /content/shoppingcart.mp4: 128x224 3 trolleys, 8.2ms\n",
            "video 1/1 (142/238) /content/shoppingcart.mp4: 128x224 2 trolleys, 9.2ms\n",
            "video 1/1 (143/238) /content/shoppingcart.mp4: 128x224 3 trolleys, 8.0ms\n",
            "video 1/1 (144/238) /content/shoppingcart.mp4: 128x224 3 trolleys, 8.0ms\n",
            "video 1/1 (145/238) /content/shoppingcart.mp4: 128x224 2 trolleys, 8.4ms\n",
            "video 1/1 (146/238) /content/shoppingcart.mp4: 128x224 1 trolley, 12.4ms\n",
            "video 1/1 (147/238) /content/shoppingcart.mp4: 128x224 2 trolleys, 12.2ms\n",
            "video 1/1 (148/238) /content/shoppingcart.mp4: 128x224 2 trolleys, 12.3ms\n",
            "video 1/1 (149/238) /content/shoppingcart.mp4: 128x224 2 trolleys, 8.7ms\n",
            "video 1/1 (150/238) /content/shoppingcart.mp4: 128x224 2 trolleys, 8.3ms\n",
            "video 1/1 (151/238) /content/shoppingcart.mp4: 128x224 2 trolleys, 8.4ms\n",
            "video 1/1 (152/238) /content/shoppingcart.mp4: 128x224 1 trolley, 10.3ms\n",
            "video 1/1 (153/238) /content/shoppingcart.mp4: 128x224 1 trolley, 8.4ms\n",
            "video 1/1 (154/238) /content/shoppingcart.mp4: 128x224 2 trolleys, 8.1ms\n",
            "video 1/1 (155/238) /content/shoppingcart.mp4: 128x224 2 trolleys, 8.0ms\n",
            "video 1/1 (156/238) /content/shoppingcart.mp4: 128x224 2 trolleys, 9.8ms\n",
            "video 1/1 (157/238) /content/shoppingcart.mp4: 128x224 1 trolley, 8.3ms\n",
            "video 1/1 (158/238) /content/shoppingcart.mp4: 128x224 2 trolleys, 8.1ms\n",
            "video 1/1 (159/238) /content/shoppingcart.mp4: 128x224 2 trolleys, 8.0ms\n",
            "video 1/1 (160/238) /content/shoppingcart.mp4: 128x224 3 trolleys, 10.0ms\n",
            "video 1/1 (161/238) /content/shoppingcart.mp4: 128x224 2 trolleys, 8.5ms\n",
            "video 1/1 (162/238) /content/shoppingcart.mp4: 128x224 3 trolleys, 10.1ms\n",
            "video 1/1 (163/238) /content/shoppingcart.mp4: 128x224 2 trolleys, 9.9ms\n",
            "video 1/1 (164/238) /content/shoppingcart.mp4: 128x224 3 trolleys, 10.7ms\n",
            "video 1/1 (165/238) /content/shoppingcart.mp4: 128x224 2 trolleys, 10.3ms\n",
            "video 1/1 (166/238) /content/shoppingcart.mp4: 128x224 1 trolley, 10.3ms\n",
            "video 1/1 (167/238) /content/shoppingcart.mp4: 128x224 2 trolleys, 10.1ms\n",
            "video 1/1 (168/238) /content/shoppingcart.mp4: 128x224 2 trolleys, 18.4ms\n",
            "video 1/1 (169/238) /content/shoppingcart.mp4: 128x224 3 trolleys, 10.9ms\n",
            "video 1/1 (170/238) /content/shoppingcart.mp4: 128x224 3 trolleys, 10.5ms\n",
            "video 1/1 (171/238) /content/shoppingcart.mp4: 128x224 2 trolleys, 10.1ms\n",
            "video 1/1 (172/238) /content/shoppingcart.mp4: 128x224 1 trolley, 10.0ms\n",
            "video 1/1 (173/238) /content/shoppingcart.mp4: 128x224 2 trolleys, 10.0ms\n",
            "video 1/1 (174/238) /content/shoppingcart.mp4: 128x224 2 trolleys, 9.7ms\n",
            "video 1/1 (175/238) /content/shoppingcart.mp4: 128x224 2 trolleys, 8.3ms\n",
            "video 1/1 (176/238) /content/shoppingcart.mp4: 128x224 1 trolley, 15.9ms\n",
            "video 1/1 (177/238) /content/shoppingcart.mp4: 128x224 1 trolley, 11.2ms\n",
            "video 1/1 (178/238) /content/shoppingcart.mp4: 128x224 3 trolleys, 9.2ms\n",
            "video 1/1 (179/238) /content/shoppingcart.mp4: 128x224 3 trolleys, 9.9ms\n",
            "video 1/1 (180/238) /content/shoppingcart.mp4: 128x224 4 trolleys, 9.3ms\n",
            "video 1/1 (181/238) /content/shoppingcart.mp4: 128x224 4 trolleys, 7.1ms\n",
            "video 1/1 (182/238) /content/shoppingcart.mp4: 128x224 3 trolleys, 7.1ms\n",
            "video 1/1 (183/238) /content/shoppingcart.mp4: 128x224 5 trolleys, 7.0ms\n",
            "video 1/1 (184/238) /content/shoppingcart.mp4: 128x224 3 trolleys, 7.2ms\n",
            "video 1/1 (185/238) /content/shoppingcart.mp4: 128x224 1 trolley, 7.1ms\n",
            "video 1/1 (186/238) /content/shoppingcart.mp4: 128x224 (no detections), 7.0ms\n",
            "video 1/1 (187/238) /content/shoppingcart.mp4: 128x224 1 trolley, 6.9ms\n",
            "video 1/1 (188/238) /content/shoppingcart.mp4: 128x224 1 trolley, 7.8ms\n",
            "video 1/1 (189/238) /content/shoppingcart.mp4: 128x224 1 trolley, 9.9ms\n",
            "video 1/1 (190/238) /content/shoppingcart.mp4: 128x224 (no detections), 7.0ms\n",
            "video 1/1 (191/238) /content/shoppingcart.mp4: 128x224 (no detections), 7.1ms\n",
            "video 1/1 (192/238) /content/shoppingcart.mp4: 128x224 (no detections), 7.1ms\n",
            "video 1/1 (193/238) /content/shoppingcart.mp4: 128x224 2 trolleys, 6.9ms\n",
            "video 1/1 (194/238) /content/shoppingcart.mp4: 128x224 1 trolley, 6.9ms\n",
            "video 1/1 (195/238) /content/shoppingcart.mp4: 128x224 1 trolley, 6.9ms\n",
            "video 1/1 (196/238) /content/shoppingcart.mp4: 128x224 1 trolley, 7.1ms\n",
            "video 1/1 (197/238) /content/shoppingcart.mp4: 128x224 2 trolleys, 6.8ms\n",
            "video 1/1 (198/238) /content/shoppingcart.mp4: 128x224 1 trolley, 9.5ms\n",
            "video 1/1 (199/238) /content/shoppingcart.mp4: 128x224 2 trolleys, 6.8ms\n",
            "video 1/1 (200/238) /content/shoppingcart.mp4: 128x224 1 trolley, 6.8ms\n",
            "video 1/1 (201/238) /content/shoppingcart.mp4: 128x224 1 trolley, 6.8ms\n",
            "video 1/1 (202/238) /content/shoppingcart.mp4: 128x224 1 trolley, 6.2ms\n",
            "video 1/1 (203/238) /content/shoppingcart.mp4: 128x224 (no detections), 7.5ms\n",
            "video 1/1 (204/238) /content/shoppingcart.mp4: 128x224 (no detections), 5.9ms\n",
            "video 1/1 (205/238) /content/shoppingcart.mp4: 128x224 (no detections), 6.0ms\n",
            "video 1/1 (206/238) /content/shoppingcart.mp4: 128x224 (no detections), 6.2ms\n",
            "video 1/1 (207/238) /content/shoppingcart.mp4: 128x224 1 trolley, 6.0ms\n",
            "video 1/1 (208/238) /content/shoppingcart.mp4: 128x224 1 trolley, 6.8ms\n",
            "video 1/1 (209/238) /content/shoppingcart.mp4: 128x224 1 trolley, 6.0ms\n",
            "video 1/1 (210/238) /content/shoppingcart.mp4: 128x224 1 trolley, 6.1ms\n",
            "video 1/1 (211/238) /content/shoppingcart.mp4: 128x224 (no detections), 6.0ms\n",
            "video 1/1 (212/238) /content/shoppingcart.mp4: 128x224 (no detections), 6.1ms\n",
            "video 1/1 (213/238) /content/shoppingcart.mp4: 128x224 (no detections), 6.2ms\n",
            "video 1/1 (214/238) /content/shoppingcart.mp4: 128x224 (no detections), 6.1ms\n",
            "video 1/1 (215/238) /content/shoppingcart.mp4: 128x224 (no detections), 6.1ms\n",
            "video 1/1 (216/238) /content/shoppingcart.mp4: 128x224 (no detections), 6.3ms\n",
            "video 1/1 (217/238) /content/shoppingcart.mp4: 128x224 (no detections), 8.5ms\n",
            "video 1/1 (218/238) /content/shoppingcart.mp4: 128x224 1 trolley, 7.0ms\n",
            "video 1/1 (219/238) /content/shoppingcart.mp4: 128x224 1 trolley, 6.1ms\n",
            "video 1/1 (220/238) /content/shoppingcart.mp4: 128x224 1 trolley, 6.1ms\n",
            "video 1/1 (221/238) /content/shoppingcart.mp4: 128x224 1 trolley, 6.1ms\n",
            "video 1/1 (222/238) /content/shoppingcart.mp4: 128x224 1 trolley, 5.9ms\n",
            "video 1/1 (223/238) /content/shoppingcart.mp4: 128x224 1 trolley, 6.2ms\n",
            "video 1/1 (224/238) /content/shoppingcart.mp4: 128x224 1 trolley, 6.1ms\n",
            "video 1/1 (225/238) /content/shoppingcart.mp4: 128x224 1 trolley, 5.8ms\n",
            "video 1/1 (226/238) /content/shoppingcart.mp4: 128x224 1 trolley, 5.8ms\n",
            "video 1/1 (227/238) /content/shoppingcart.mp4: 128x224 1 trolley, 5.8ms\n",
            "video 1/1 (228/238) /content/shoppingcart.mp4: 128x224 1 trolley, 7.0ms\n",
            "video 1/1 (229/238) /content/shoppingcart.mp4: 128x224 1 trolley, 5.9ms\n",
            "video 1/1 (230/238) /content/shoppingcart.mp4: 128x224 1 trolley, 6.0ms\n",
            "video 1/1 (231/238) /content/shoppingcart.mp4: 128x224 1 trolley, 6.3ms\n",
            "video 1/1 (232/238) /content/shoppingcart.mp4: 128x224 1 trolley, 6.0ms\n",
            "video 1/1 (233/238) /content/shoppingcart.mp4: 128x224 2 trolleys, 6.0ms\n",
            "video 1/1 (234/238) /content/shoppingcart.mp4: 128x224 2 trolleys, 6.0ms\n",
            "video 1/1 (235/238) /content/shoppingcart.mp4: 128x224 2 trolleys, 6.1ms\n",
            "video 1/1 (236/238) /content/shoppingcart.mp4: 128x224 2 trolleys, 6.0ms\n",
            "video 1/1 (237/238) /content/shoppingcart.mp4: 128x224 1 trolley, 6.0ms\n",
            "video 1/1 (238/238) /content/shoppingcart.mp4: 128x224 1 trolley, 6.0ms\n",
            "Speed: 0.6ms preprocess, 8.8ms inference, 1.9ms postprocess per image at shape (1, 3, 224, 224)\n",
            "Results saved to \u001b[1mruns/detect/predict7\u001b[0m\n"
          ]
        }
      ]
    },
    {
      "cell_type": "code",
      "source": [
        "from ultralytics import YOLO\n",
        "\n",
        "# load model\n",
        "model = YOLO('/content/gdrive/MyDrive/runs/detect/train2/weights/best.pt')\n",
        "model.fuse()\n",
        "\n",
        "# # predict\n",
        "# detections = model(frame)"
      ],
      "metadata": {
        "colab": {
          "base_uri": "https://localhost:8080/"
        },
        "id": "DYL9oPf8OP6L",
        "outputId": "3ca94d7e-b90c-4d8b-d558-c11b612a08af"
      },
      "execution_count": 31,
      "outputs": [
        {
          "output_type": "stream",
          "name": "stderr",
          "text": [
            "Model summary (fused): 168 layers, 11125971 parameters, 0 gradients, 28.4 GFLOPs\n"
          ]
        }
      ]
    },
    {
      "cell_type": "code",
      "source": [
        "pip install bytetracker"
      ],
      "metadata": {
        "colab": {
          "base_uri": "https://localhost:8080/"
        },
        "id": "U7sQ_z4I7dQS",
        "outputId": "3febe38e-8e97-47a4-916b-3a1f07f8d1c4"
      },
      "execution_count": 24,
      "outputs": [
        {
          "output_type": "stream",
          "name": "stdout",
          "text": [
            "Looking in indexes: https://pypi.org/simple, https://us-python.pkg.dev/colab-wheels/public/simple/\n",
            "Requirement already satisfied: bytetracker in /usr/local/lib/python3.10/dist-packages (0.3.2)\n",
            "Requirement already satisfied: lap==0.4.0 in /usr/local/lib/python3.10/dist-packages (from bytetracker) (0.4.0)\n",
            "Requirement already satisfied: scipy==1.9.3 in /usr/local/lib/python3.10/dist-packages (from bytetracker) (1.9.3)\n",
            "Requirement already satisfied: torch==1.13.0 in /usr/local/lib/python3.10/dist-packages (from bytetracker) (1.13.0)\n",
            "Requirement already satisfied: numpy<1.26.0,>=1.18.5 in /usr/local/lib/python3.10/dist-packages (from scipy==1.9.3->bytetracker) (1.22.4)\n",
            "Requirement already satisfied: typing-extensions in /usr/local/lib/python3.10/dist-packages (from torch==1.13.0->bytetracker) (4.5.0)\n",
            "Requirement already satisfied: nvidia-cuda-runtime-cu11==11.7.99 in /usr/local/lib/python3.10/dist-packages (from torch==1.13.0->bytetracker) (11.7.99)\n",
            "Requirement already satisfied: nvidia-cudnn-cu11==8.5.0.96 in /usr/local/lib/python3.10/dist-packages (from torch==1.13.0->bytetracker) (8.5.0.96)\n",
            "Requirement already satisfied: nvidia-cublas-cu11==11.10.3.66 in /usr/local/lib/python3.10/dist-packages (from torch==1.13.0->bytetracker) (11.10.3.66)\n",
            "Requirement already satisfied: nvidia-cuda-nvrtc-cu11==11.7.99 in /usr/local/lib/python3.10/dist-packages (from torch==1.13.0->bytetracker) (11.7.99)\n",
            "Requirement already satisfied: setuptools in /usr/local/lib/python3.10/dist-packages (from nvidia-cublas-cu11==11.10.3.66->torch==1.13.0->bytetracker) (67.7.2)\n",
            "Requirement already satisfied: wheel in /usr/local/lib/python3.10/dist-packages (from nvidia-cublas-cu11==11.10.3.66->torch==1.13.0->bytetracker) (0.40.0)\n"
          ]
        }
      ]
    },
    {
      "cell_type": "code",
      "source": [
        "pip install supervision==0.1.0"
      ],
      "metadata": {
        "colab": {
          "base_uri": "https://localhost:8080/"
        },
        "id": "TdITvu0U8Fik",
        "outputId": "815a96f2-de3c-4fcf-9104-c5bda3c4a8b1"
      },
      "execution_count": 26,
      "outputs": [
        {
          "output_type": "stream",
          "name": "stdout",
          "text": [
            "Looking in indexes: https://pypi.org/simple, https://us-python.pkg.dev/colab-wheels/public/simple/\n",
            "Requirement already satisfied: supervision==0.1.0 in /usr/local/lib/python3.10/dist-packages (0.1.0)\n",
            "Requirement already satisfied: numpy in /usr/local/lib/python3.10/dist-packages (from supervision==0.1.0) (1.22.4)\n",
            "Requirement already satisfied: opencv-python in /usr/local/lib/python3.10/dist-packages (from supervision==0.1.0) (4.7.0.72)\n"
          ]
        }
      ]
    },
    {
      "cell_type": "code",
      "source": [
        "!nvidia-smi"
      ],
      "metadata": {
        "colab": {
          "base_uri": "https://localhost:8080/"
        },
        "id": "V-dheOh_8LvB",
        "outputId": "0a447be8-b86a-4e16-b1a2-7f5bb5ab144e"
      },
      "execution_count": 33,
      "outputs": [
        {
          "output_type": "stream",
          "name": "stdout",
          "text": [
            "Tue May  2 05:42:46 2023       \n",
            "+-----------------------------------------------------------------------------+\n",
            "| NVIDIA-SMI 525.85.12    Driver Version: 525.85.12    CUDA Version: 12.0     |\n",
            "|-------------------------------+----------------------+----------------------+\n",
            "| GPU  Name        Persistence-M| Bus-Id        Disp.A | Volatile Uncorr. ECC |\n",
            "| Fan  Temp  Perf  Pwr:Usage/Cap|         Memory-Usage | GPU-Util  Compute M. |\n",
            "|                               |                      |               MIG M. |\n",
            "|===============================+======================+======================|\n",
            "|   0  Tesla T4            Off  | 00000000:00:04.0 Off |                    0 |\n",
            "| N/A   40C    P8     9W /  70W |      3MiB / 15360MiB |      0%      Default |\n",
            "|                               |                      |                  N/A |\n",
            "+-------------------------------+----------------------+----------------------+\n",
            "                                                                               \n",
            "+-----------------------------------------------------------------------------+\n",
            "| Processes:                                                                  |\n",
            "|  GPU   GI   CI        PID   Type   Process name                  GPU Memory |\n",
            "|        ID   ID                                                   Usage      |\n",
            "|=============================================================================|\n",
            "|  No running processes found                                                 |\n",
            "+-----------------------------------------------------------------------------+\n"
          ]
        }
      ]
    },
    {
      "cell_type": "code",
      "source": [
        "import torch\n",
        "!nvcc --version\n",
        "TORCH_VERSION = \".\".join(torch.__version__.split(\".\")[:2])\n",
        "CUDA_VERSION = torch.__version__.split(\"+\")[-1]\n",
        "print(\"torch: \", TORCH_VERSION, \"; cuda: \", CUDA_VERSION)"
      ],
      "metadata": {
        "colab": {
          "base_uri": "https://localhost:8080/"
        },
        "id": "V86I9zQm_Avo",
        "outputId": "3eb7f8c6-06b0-43ab-c85b-4a1f8b2d5781"
      },
      "execution_count": 35,
      "outputs": [
        {
          "output_type": "stream",
          "name": "stdout",
          "text": [
            "nvcc: NVIDIA (R) Cuda compiler driver\n",
            "Copyright (c) 2005-2022 NVIDIA Corporation\n",
            "Built on Wed_Sep_21_10:33:58_PDT_2022\n",
            "Cuda compilation tools, release 11.8, V11.8.89\n",
            "Build cuda_11.8.r11.8/compiler.31833905_0\n",
            "torch:  2.0 ; cuda:  cu118\n"
          ]
        }
      ]
    },
    {
      "cell_type": "code",
      "source": [
        "!python -m pip install 'git+https://github.com/facebookresearch/detectron2.git'\n",
        "\n",
        "from IPython import display\n",
        "display.clear_output()\n",
        "\n",
        "import detectron2\n",
        "print(\"detectron2:\", detectron2.__version__)"
      ],
      "metadata": {
        "colab": {
          "base_uri": "https://localhost:8080/"
        },
        "id": "b6k0Na3L_HIq",
        "outputId": "3a16f480-fe75-4140-fb50-26669a63800b"
      },
      "execution_count": 38,
      "outputs": [
        {
          "output_type": "stream",
          "name": "stdout",
          "text": [
            "detectron2: 0.6\n"
          ]
        }
      ]
    },
    {
      "cell_type": "code",
      "source": [
        "!pip install supervision==0.2.0\n",
        "\n",
        "from IPython import display\n",
        "display.clear_output()\n",
        "\n",
        "import supervision as sv\n",
        "print(\"supervision\", sv.__version__)"
      ],
      "metadata": {
        "colab": {
          "base_uri": "https://localhost:8080/"
        },
        "id": "8UhWsL7aApJU",
        "outputId": "25c4b317-7961-4d8a-f0cf-bb24a737cef6"
      },
      "execution_count": 39,
      "outputs": [
        {
          "output_type": "stream",
          "name": "stdout",
          "text": [
            "supervision 0.1.0\n"
          ]
        }
      ]
    },
    {
      "cell_type": "code",
      "source": [
        "import supervision as sv\n",
        "\n",
        "# extract video frame\n",
        "generator = sv.get_video_frames_generator('/content/shoppingcart.mp4')\n",
        "iterator = iter(generator)\n",
        "frame = next(iterator)\n",
        "\n",
        "# detect\n",
        "results = model(frame, imgsz=1280)[0]\n",
        "detections = sv.Detections.from_yolov8(results)\n",
        "\n",
        "# annotate\n",
        "box_annotator = sv.BoxAnnotator(thickness=4, text_thickness=4, text_scale=2)\n",
        "frame = box_annotator.annotate(scene=frame, detections=detections)\n",
        "\n",
        "%matplotlib inline  \n",
        "sv.show_frame_in_notebook(frame, (16, 16))"
      ],
      "metadata": {
        "colab": {
          "base_uri": "https://localhost:8080/",
          "height": 235
        },
        "id": "FaWcMAx0_8Dt",
        "outputId": "2f94ea0d-0adb-4a9f-9470-9ba9f33931fc"
      },
      "execution_count": 41,
      "outputs": [
        {
          "output_type": "error",
          "ename": "AttributeError",
          "evalue": "ignored",
          "traceback": [
            "\u001b[0;31m---------------------------------------------------------------------------\u001b[0m",
            "\u001b[0;31mAttributeError\u001b[0m                            Traceback (most recent call last)",
            "\u001b[0;32m<ipython-input-41-4cfd91be3dd8>\u001b[0m in \u001b[0;36m<cell line: 4>\u001b[0;34m()\u001b[0m\n\u001b[1;32m      2\u001b[0m \u001b[0;34m\u001b[0m\u001b[0m\n\u001b[1;32m      3\u001b[0m \u001b[0;31m# extract video frame\u001b[0m\u001b[0;34m\u001b[0m\u001b[0;34m\u001b[0m\u001b[0m\n\u001b[0;32m----> 4\u001b[0;31m \u001b[0mgenerator\u001b[0m \u001b[0;34m=\u001b[0m \u001b[0msv\u001b[0m\u001b[0;34m.\u001b[0m\u001b[0mget_video_frames_generator\u001b[0m\u001b[0;34m(\u001b[0m\u001b[0;34m'/content/shoppingcart.mp4'\u001b[0m\u001b[0;34m)\u001b[0m\u001b[0;34m\u001b[0m\u001b[0;34m\u001b[0m\u001b[0m\n\u001b[0m\u001b[1;32m      5\u001b[0m \u001b[0miterator\u001b[0m \u001b[0;34m=\u001b[0m \u001b[0miter\u001b[0m\u001b[0;34m(\u001b[0m\u001b[0mgenerator\u001b[0m\u001b[0;34m)\u001b[0m\u001b[0;34m\u001b[0m\u001b[0;34m\u001b[0m\u001b[0m\n\u001b[1;32m      6\u001b[0m \u001b[0mframe\u001b[0m \u001b[0;34m=\u001b[0m \u001b[0mnext\u001b[0m\u001b[0;34m(\u001b[0m\u001b[0miterator\u001b[0m\u001b[0;34m)\u001b[0m\u001b[0;34m\u001b[0m\u001b[0;34m\u001b[0m\u001b[0m\n",
            "\u001b[0;31mAttributeError\u001b[0m: module 'supervision' has no attribute 'get_video_frames_generator'"
          ]
        }
      ]
    },
    {
      "cell_type": "code",
      "source": [],
      "metadata": {
        "id": "--d9cuuPBKui"
      },
      "execution_count": null,
      "outputs": []
    }
  ]
}